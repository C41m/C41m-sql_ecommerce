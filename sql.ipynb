{
 "cells": [
  {
   "cell_type": "code",
   "execution_count": 87,
   "metadata": {},
   "outputs": [],
   "source": [
    "import pandas as pd\n",
    "import sqlite3\n",
    "\n",
    "\n",
    "conn = sqlite3.connect(\"database/db_olist.sqlite\")\n",
    "cursor = conn.cursor()"
   ]
  },
  {
   "cell_type": "markdown",
   "metadata": {},
   "source": [
    "# Consultas em SQL - Tasks CEO"
   ]
  },
  {
   "cell_type": "markdown",
   "metadata": {},
   "source": [
    "## Ciclo_1"
   ]
  },
  {
   "cell_type": "markdown",
   "metadata": {},
   "source": [
    "###  Gere uma tabela com o id do cliente, a cidade e o estado onde ele vive:\n"
   ]
  },
  {
   "cell_type": "code",
   "execution_count": 88,
   "metadata": {},
   "outputs": [
    {
     "data": {
      "text/html": [
       "<div>\n",
       "<style scoped>\n",
       "    .dataframe tbody tr th:only-of-type {\n",
       "        vertical-align: middle;\n",
       "    }\n",
       "\n",
       "    .dataframe tbody tr th {\n",
       "        vertical-align: top;\n",
       "    }\n",
       "\n",
       "    .dataframe thead th {\n",
       "        text-align: right;\n",
       "    }\n",
       "</style>\n",
       "<table border=\"1\" class=\"dataframe\">\n",
       "  <thead>\n",
       "    <tr style=\"text-align: right;\">\n",
       "      <th></th>\n",
       "      <th>id_cliente</th>\n",
       "      <th>cidade</th>\n",
       "      <th>estado</th>\n",
       "    </tr>\n",
       "  </thead>\n",
       "  <tbody>\n",
       "    <tr>\n",
       "      <th>0</th>\n",
       "      <td>06b8999e2fba1a1fbc88172c00ba8bc7</td>\n",
       "      <td>franca</td>\n",
       "      <td>SP</td>\n",
       "    </tr>\n",
       "    <tr>\n",
       "      <th>1</th>\n",
       "      <td>18955e83d337fd6b2def6b18a428ac77</td>\n",
       "      <td>sao bernardo do campo</td>\n",
       "      <td>SP</td>\n",
       "    </tr>\n",
       "    <tr>\n",
       "      <th>2</th>\n",
       "      <td>4e7b3e00288586ebd08712fdd0374a03</td>\n",
       "      <td>sao paulo</td>\n",
       "      <td>SP</td>\n",
       "    </tr>\n",
       "    <tr>\n",
       "      <th>3</th>\n",
       "      <td>b2b6027bc5c5109e529d4dc6358b12c3</td>\n",
       "      <td>mogi das cruzes</td>\n",
       "      <td>SP</td>\n",
       "    </tr>\n",
       "    <tr>\n",
       "      <th>4</th>\n",
       "      <td>4f2d8ab171c80ec8364f7c12e35b23ad</td>\n",
       "      <td>campinas</td>\n",
       "      <td>SP</td>\n",
       "    </tr>\n",
       "    <tr>\n",
       "      <th>...</th>\n",
       "      <td>...</td>\n",
       "      <td>...</td>\n",
       "      <td>...</td>\n",
       "    </tr>\n",
       "    <tr>\n",
       "      <th>99436</th>\n",
       "      <td>17ddf5dd5d51696bb3d7c6291687be6f</td>\n",
       "      <td>sao paulo</td>\n",
       "      <td>SP</td>\n",
       "    </tr>\n",
       "    <tr>\n",
       "      <th>99437</th>\n",
       "      <td>e7b71a9017aa05c9a7fd292d714858e8</td>\n",
       "      <td>taboao da serra</td>\n",
       "      <td>SP</td>\n",
       "    </tr>\n",
       "    <tr>\n",
       "      <th>99438</th>\n",
       "      <td>5e28dfe12db7fb50a4b2f691faecea5e</td>\n",
       "      <td>fortaleza</td>\n",
       "      <td>CE</td>\n",
       "    </tr>\n",
       "    <tr>\n",
       "      <th>99439</th>\n",
       "      <td>56b18e2166679b8a959d72dd06da27f9</td>\n",
       "      <td>canoas</td>\n",
       "      <td>RS</td>\n",
       "    </tr>\n",
       "    <tr>\n",
       "      <th>99440</th>\n",
       "      <td>274fa6071e5e17fe303b9748641082c8</td>\n",
       "      <td>cotia</td>\n",
       "      <td>SP</td>\n",
       "    </tr>\n",
       "  </tbody>\n",
       "</table>\n",
       "<p>99441 rows × 3 columns</p>\n",
       "</div>"
      ],
      "text/plain": [
       "                             id_cliente                 cidade estado\n",
       "0      06b8999e2fba1a1fbc88172c00ba8bc7                 franca     SP\n",
       "1      18955e83d337fd6b2def6b18a428ac77  sao bernardo do campo     SP\n",
       "2      4e7b3e00288586ebd08712fdd0374a03              sao paulo     SP\n",
       "3      b2b6027bc5c5109e529d4dc6358b12c3        mogi das cruzes     SP\n",
       "4      4f2d8ab171c80ec8364f7c12e35b23ad               campinas     SP\n",
       "...                                 ...                    ...    ...\n",
       "99436  17ddf5dd5d51696bb3d7c6291687be6f              sao paulo     SP\n",
       "99437  e7b71a9017aa05c9a7fd292d714858e8        taboao da serra     SP\n",
       "99438  5e28dfe12db7fb50a4b2f691faecea5e              fortaleza     CE\n",
       "99439  56b18e2166679b8a959d72dd06da27f9                 canoas     RS\n",
       "99440  274fa6071e5e17fe303b9748641082c8                  cotia     SP\n",
       "\n",
       "[99441 rows x 3 columns]"
      ]
     },
     "metadata": {},
     "output_type": "display_data"
    }
   ],
   "source": [
    "cursor.execute(\n",
    "    \"\"\"SELECT\n",
    "  c.customer_id,\n",
    "  c.customer_city,\n",
    "  c.customer_state\n",
    "FROM\n",
    "  customer c\"\"\"\n",
    ")\n",
    "\n",
    "rows = cursor.fetchall()\n",
    "\n",
    "df = pd.DataFrame(rows, columns=[\"id_cliente\", \"cidade\", \"estado\"])\n",
    "\n",
    "display(df)"
   ]
  },
  {
   "cell_type": "markdown",
   "metadata": {},
   "source": [
    "### Gere uma tabela com o id do cliente e a cidade, somente dos clientes que vivem em Santa Catarina:"
   ]
  },
  {
   "cell_type": "code",
   "execution_count": 89,
   "metadata": {},
   "outputs": [
    {
     "data": {
      "text/html": [
       "<div>\n",
       "<style scoped>\n",
       "    .dataframe tbody tr th:only-of-type {\n",
       "        vertical-align: middle;\n",
       "    }\n",
       "\n",
       "    .dataframe tbody tr th {\n",
       "        vertical-align: top;\n",
       "    }\n",
       "\n",
       "    .dataframe thead th {\n",
       "        text-align: right;\n",
       "    }\n",
       "</style>\n",
       "<table border=\"1\" class=\"dataframe\">\n",
       "  <thead>\n",
       "    <tr style=\"text-align: right;\">\n",
       "      <th></th>\n",
       "      <th>id_cliente</th>\n",
       "      <th>cidade</th>\n",
       "    </tr>\n",
       "  </thead>\n",
       "  <tbody>\n",
       "    <tr>\n",
       "      <th>0</th>\n",
       "      <td>879864dab9bc3047522c92c82e1212b8</td>\n",
       "      <td>jaragua do sul</td>\n",
       "    </tr>\n",
       "    <tr>\n",
       "      <th>1</th>\n",
       "      <td>154c4ded6991bdfa3cd249d11abf4130</td>\n",
       "      <td>florianopolis</td>\n",
       "    </tr>\n",
       "    <tr>\n",
       "      <th>2</th>\n",
       "      <td>b6368ca0f56d4632f44d58ca431487b2</td>\n",
       "      <td>sao jose</td>\n",
       "    </tr>\n",
       "    <tr>\n",
       "      <th>3</th>\n",
       "      <td>4d27341acd30a36bca39008ee9bb9050</td>\n",
       "      <td>jaragua do sul</td>\n",
       "    </tr>\n",
       "    <tr>\n",
       "      <th>4</th>\n",
       "      <td>443b534d0d27a8aa9a184d4869bcbe7a</td>\n",
       "      <td>jaragua do sul</td>\n",
       "    </tr>\n",
       "    <tr>\n",
       "      <th>...</th>\n",
       "      <td>...</td>\n",
       "      <td>...</td>\n",
       "    </tr>\n",
       "    <tr>\n",
       "      <th>3632</th>\n",
       "      <td>f1def85ade6e5b754d5f84a958fd48c2</td>\n",
       "      <td>florianopolis</td>\n",
       "    </tr>\n",
       "    <tr>\n",
       "      <th>3633</th>\n",
       "      <td>36cf561d6c23f010a6944f0908ee6bdc</td>\n",
       "      <td>cacador</td>\n",
       "    </tr>\n",
       "    <tr>\n",
       "      <th>3634</th>\n",
       "      <td>61999ea0577a957d34dfa9728c1ba783</td>\n",
       "      <td>seara</td>\n",
       "    </tr>\n",
       "    <tr>\n",
       "      <th>3635</th>\n",
       "      <td>69f774928b3541289743181082f07ea7</td>\n",
       "      <td>sombrio</td>\n",
       "    </tr>\n",
       "    <tr>\n",
       "      <th>3636</th>\n",
       "      <td>ec126b0b2593214b75ec14893b15d9e5</td>\n",
       "      <td>mafra</td>\n",
       "    </tr>\n",
       "  </tbody>\n",
       "</table>\n",
       "<p>3637 rows × 2 columns</p>\n",
       "</div>"
      ],
      "text/plain": [
       "                            id_cliente          cidade\n",
       "0     879864dab9bc3047522c92c82e1212b8  jaragua do sul\n",
       "1     154c4ded6991bdfa3cd249d11abf4130   florianopolis\n",
       "2     b6368ca0f56d4632f44d58ca431487b2        sao jose\n",
       "3     4d27341acd30a36bca39008ee9bb9050  jaragua do sul\n",
       "4     443b534d0d27a8aa9a184d4869bcbe7a  jaragua do sul\n",
       "...                                ...             ...\n",
       "3632  f1def85ade6e5b754d5f84a958fd48c2   florianopolis\n",
       "3633  36cf561d6c23f010a6944f0908ee6bdc         cacador\n",
       "3634  61999ea0577a957d34dfa9728c1ba783           seara\n",
       "3635  69f774928b3541289743181082f07ea7         sombrio\n",
       "3636  ec126b0b2593214b75ec14893b15d9e5           mafra\n",
       "\n",
       "[3637 rows x 2 columns]"
      ]
     },
     "metadata": {},
     "output_type": "display_data"
    }
   ],
   "source": [
    "cursor.execute(\n",
    "    \"\"\"\n",
    "SELECT\n",
    "  c.customer_id,\n",
    "  c.customer_city\n",
    "FROM\n",
    "  customer c\n",
    "WHERE\n",
    "  c.customer_state = 'SC'\n",
    "\"\"\"\n",
    ")\n",
    "\n",
    "rows = cursor.fetchall()\n",
    "\n",
    "df = pd.DataFrame(rows, columns=[\"id_cliente\", \"cidade\"])\n",
    "\n",
    "display(df)"
   ]
  },
  {
   "cell_type": "markdown",
   "metadata": {},
   "source": [
    "### Gere uma tabela com o id do cliente e o estado, somente dos clientes que vivem em Florianópolis:"
   ]
  },
  {
   "cell_type": "code",
   "execution_count": 90,
   "metadata": {},
   "outputs": [
    {
     "data": {
      "text/html": [
       "<div>\n",
       "<style scoped>\n",
       "    .dataframe tbody tr th:only-of-type {\n",
       "        vertical-align: middle;\n",
       "    }\n",
       "\n",
       "    .dataframe tbody tr th {\n",
       "        vertical-align: top;\n",
       "    }\n",
       "\n",
       "    .dataframe thead th {\n",
       "        text-align: right;\n",
       "    }\n",
       "</style>\n",
       "<table border=\"1\" class=\"dataframe\">\n",
       "  <thead>\n",
       "    <tr style=\"text-align: right;\">\n",
       "      <th></th>\n",
       "      <th>id_cliente</th>\n",
       "      <th>estado</th>\n",
       "    </tr>\n",
       "  </thead>\n",
       "  <tbody>\n",
       "    <tr>\n",
       "      <th>0</th>\n",
       "      <td>154c4ded6991bdfa3cd249d11abf4130</td>\n",
       "      <td>SC</td>\n",
       "    </tr>\n",
       "    <tr>\n",
       "      <th>1</th>\n",
       "      <td>2173c184771a8a19f6fc87d8b3dea9e0</td>\n",
       "      <td>SC</td>\n",
       "    </tr>\n",
       "    <tr>\n",
       "      <th>2</th>\n",
       "      <td>02f615f19af07c54a0d4653308f6674b</td>\n",
       "      <td>SC</td>\n",
       "    </tr>\n",
       "    <tr>\n",
       "      <th>3</th>\n",
       "      <td>151260cb5d9b3c220d0af50c81c329a9</td>\n",
       "      <td>SC</td>\n",
       "    </tr>\n",
       "    <tr>\n",
       "      <th>4</th>\n",
       "      <td>d494b02fb3835e2d398d44ea7f275bce</td>\n",
       "      <td>SC</td>\n",
       "    </tr>\n",
       "    <tr>\n",
       "      <th>...</th>\n",
       "      <td>...</td>\n",
       "      <td>...</td>\n",
       "    </tr>\n",
       "    <tr>\n",
       "      <th>565</th>\n",
       "      <td>be2b84f5d9486064e0163c4c966b30d8</td>\n",
       "      <td>SC</td>\n",
       "    </tr>\n",
       "    <tr>\n",
       "      <th>566</th>\n",
       "      <td>0f8578d7df4151708dbebbd72050ce3c</td>\n",
       "      <td>SC</td>\n",
       "    </tr>\n",
       "    <tr>\n",
       "      <th>567</th>\n",
       "      <td>16f656f511e27cc3fbf91cbc28c415d3</td>\n",
       "      <td>SC</td>\n",
       "    </tr>\n",
       "    <tr>\n",
       "      <th>568</th>\n",
       "      <td>3e16ea28d6bd7480ea19cd0d7c248f51</td>\n",
       "      <td>SC</td>\n",
       "    </tr>\n",
       "    <tr>\n",
       "      <th>569</th>\n",
       "      <td>f1def85ade6e5b754d5f84a958fd48c2</td>\n",
       "      <td>SC</td>\n",
       "    </tr>\n",
       "  </tbody>\n",
       "</table>\n",
       "<p>570 rows × 2 columns</p>\n",
       "</div>"
      ],
      "text/plain": [
       "                           id_cliente estado\n",
       "0    154c4ded6991bdfa3cd249d11abf4130     SC\n",
       "1    2173c184771a8a19f6fc87d8b3dea9e0     SC\n",
       "2    02f615f19af07c54a0d4653308f6674b     SC\n",
       "3    151260cb5d9b3c220d0af50c81c329a9     SC\n",
       "4    d494b02fb3835e2d398d44ea7f275bce     SC\n",
       "..                                ...    ...\n",
       "565  be2b84f5d9486064e0163c4c966b30d8     SC\n",
       "566  0f8578d7df4151708dbebbd72050ce3c     SC\n",
       "567  16f656f511e27cc3fbf91cbc28c415d3     SC\n",
       "568  3e16ea28d6bd7480ea19cd0d7c248f51     SC\n",
       "569  f1def85ade6e5b754d5f84a958fd48c2     SC\n",
       "\n",
       "[570 rows x 2 columns]"
      ]
     },
     "metadata": {},
     "output_type": "display_data"
    }
   ],
   "source": [
    "cursor.execute(\n",
    "    \"\"\"\n",
    "SELECT\n",
    "  c.customer_id,\n",
    "  c.customer_state\n",
    "FROM\n",
    "  customer c\n",
    "WHERE\n",
    "  c.customer_city = 'florianopolis'\n",
    "\"\"\"\n",
    ")\n",
    "\n",
    "rows = cursor.fetchall()\n",
    "\n",
    "df = pd.DataFrame(rows, columns=[\"id_cliente\", \"estado\"])\n",
    "\n",
    "display(df)"
   ]
  },
  {
   "cell_type": "markdown",
   "metadata": {},
   "source": [
    "### Gere uma tabela com o estado, latitude e longitude do estado de São Paulo:"
   ]
  },
  {
   "cell_type": "code",
   "execution_count": 91,
   "metadata": {},
   "outputs": [
    {
     "data": {
      "text/html": [
       "<div>\n",
       "<style scoped>\n",
       "    .dataframe tbody tr th:only-of-type {\n",
       "        vertical-align: middle;\n",
       "    }\n",
       "\n",
       "    .dataframe tbody tr th {\n",
       "        vertical-align: top;\n",
       "    }\n",
       "\n",
       "    .dataframe thead th {\n",
       "        text-align: right;\n",
       "    }\n",
       "</style>\n",
       "<table border=\"1\" class=\"dataframe\">\n",
       "  <thead>\n",
       "    <tr style=\"text-align: right;\">\n",
       "      <th></th>\n",
       "      <th>latitude</th>\n",
       "      <th>longitude</th>\n",
       "      <th>estado</th>\n",
       "    </tr>\n",
       "  </thead>\n",
       "  <tbody>\n",
       "    <tr>\n",
       "      <th>0</th>\n",
       "      <td>-23.545621</td>\n",
       "      <td>-46.639292</td>\n",
       "      <td>SP</td>\n",
       "    </tr>\n",
       "    <tr>\n",
       "      <th>1</th>\n",
       "      <td>-23.546081</td>\n",
       "      <td>-46.644820</td>\n",
       "      <td>SP</td>\n",
       "    </tr>\n",
       "    <tr>\n",
       "      <th>2</th>\n",
       "      <td>-23.546129</td>\n",
       "      <td>-46.642951</td>\n",
       "      <td>SP</td>\n",
       "    </tr>\n",
       "    <tr>\n",
       "      <th>3</th>\n",
       "      <td>-23.544392</td>\n",
       "      <td>-46.639499</td>\n",
       "      <td>SP</td>\n",
       "    </tr>\n",
       "    <tr>\n",
       "      <th>4</th>\n",
       "      <td>-23.541578</td>\n",
       "      <td>-46.641607</td>\n",
       "      <td>SP</td>\n",
       "    </tr>\n",
       "    <tr>\n",
       "      <th>...</th>\n",
       "      <td>...</td>\n",
       "      <td>...</td>\n",
       "      <td>...</td>\n",
       "    </tr>\n",
       "    <tr>\n",
       "      <th>404263</th>\n",
       "      <td>-22.779062</td>\n",
       "      <td>-50.218287</td>\n",
       "      <td>SP</td>\n",
       "    </tr>\n",
       "    <tr>\n",
       "      <th>404264</th>\n",
       "      <td>-22.997601</td>\n",
       "      <td>-49.885928</td>\n",
       "      <td>SP</td>\n",
       "    </tr>\n",
       "    <tr>\n",
       "      <th>404265</th>\n",
       "      <td>-22.978498</td>\n",
       "      <td>-49.875919</td>\n",
       "      <td>SP</td>\n",
       "    </tr>\n",
       "    <tr>\n",
       "      <th>404266</th>\n",
       "      <td>-22.993127</td>\n",
       "      <td>-49.887665</td>\n",
       "      <td>SP</td>\n",
       "    </tr>\n",
       "    <tr>\n",
       "      <th>404267</th>\n",
       "      <td>-22.972685</td>\n",
       "      <td>-49.864647</td>\n",
       "      <td>SP</td>\n",
       "    </tr>\n",
       "  </tbody>\n",
       "</table>\n",
       "<p>404268 rows × 3 columns</p>\n",
       "</div>"
      ],
      "text/plain": [
       "         latitude  longitude estado\n",
       "0      -23.545621 -46.639292     SP\n",
       "1      -23.546081 -46.644820     SP\n",
       "2      -23.546129 -46.642951     SP\n",
       "3      -23.544392 -46.639499     SP\n",
       "4      -23.541578 -46.641607     SP\n",
       "...           ...        ...    ...\n",
       "404263 -22.779062 -50.218287     SP\n",
       "404264 -22.997601 -49.885928     SP\n",
       "404265 -22.978498 -49.875919     SP\n",
       "404266 -22.993127 -49.887665     SP\n",
       "404267 -22.972685 -49.864647     SP\n",
       "\n",
       "[404268 rows x 3 columns]"
      ]
     },
     "metadata": {},
     "output_type": "display_data"
    }
   ],
   "source": [
    "cursor.execute(\n",
    "    \"\"\"\n",
    "SELECT\n",
    "  g.geolocation_lat,\n",
    "  g.geolocation_lng,\n",
    "  g.geolocation_state\n",
    "FROM\n",
    "  geolocation g\n",
    "WHERE\n",
    "  g.geolocation_state = 'SP'\n",
    "\"\"\"\n",
    ")\n",
    "\n",
    "rows = cursor.fetchall()\n",
    "\n",
    "df = pd.DataFrame(rows, columns=[\"latitude\", \"longitude\", \"estado\"])\n",
    "\n",
    "display(df)"
   ]
  },
  {
   "cell_type": "markdown",
   "metadata": {},
   "source": [
    "### Gere uma tabela com o id do produto, a data de envio e o preço, somente para produtos acima de 6300"
   ]
  },
  {
   "cell_type": "code",
   "execution_count": 92,
   "metadata": {},
   "outputs": [
    {
     "data": {
      "text/html": [
       "<div>\n",
       "<style scoped>\n",
       "    .dataframe tbody tr th:only-of-type {\n",
       "        vertical-align: middle;\n",
       "    }\n",
       "\n",
       "    .dataframe tbody tr th {\n",
       "        vertical-align: top;\n",
       "    }\n",
       "\n",
       "    .dataframe thead th {\n",
       "        text-align: right;\n",
       "    }\n",
       "</style>\n",
       "<table border=\"1\" class=\"dataframe\">\n",
       "  <thead>\n",
       "    <tr style=\"text-align: right;\">\n",
       "      <th></th>\n",
       "      <th>id_pedido</th>\n",
       "      <th>dt_envio</th>\n",
       "      <th>preço</th>\n",
       "    </tr>\n",
       "  </thead>\n",
       "  <tbody>\n",
       "    <tr>\n",
       "      <th>0</th>\n",
       "      <td>0812eb902a67711a1cb742b3cdaa65ae</td>\n",
       "      <td>2017-02-16 20:37:36</td>\n",
       "      <td>6735.0</td>\n",
       "    </tr>\n",
       "    <tr>\n",
       "      <th>1</th>\n",
       "      <td>f5136e38d1a14a4dbd87dff67da82701</td>\n",
       "      <td>2017-06-15 02:45:17</td>\n",
       "      <td>6499.0</td>\n",
       "    </tr>\n",
       "    <tr>\n",
       "      <th>2</th>\n",
       "      <td>fefacc66af859508bf1a7934eab1e97f</td>\n",
       "      <td>2018-08-02 04:05:13</td>\n",
       "      <td>6729.0</td>\n",
       "    </tr>\n",
       "  </tbody>\n",
       "</table>\n",
       "</div>"
      ],
      "text/plain": [
       "                          id_pedido             dt_envio   preço\n",
       "0  0812eb902a67711a1cb742b3cdaa65ae  2017-02-16 20:37:36  6735.0\n",
       "1  f5136e38d1a14a4dbd87dff67da82701  2017-06-15 02:45:17  6499.0\n",
       "2  fefacc66af859508bf1a7934eab1e97f  2018-08-02 04:05:13  6729.0"
      ]
     },
     "metadata": {},
     "output_type": "display_data"
    }
   ],
   "source": [
    "cursor.execute(\n",
    "    \"\"\"\n",
    "SELECT\n",
    "  oi.order_id,\n",
    "  oi.shipping_limit_date,\n",
    "  oi.price\n",
    "FROM\n",
    "  order_items oi\n",
    "WHERE\n",
    "  oi.price > 6300\n",
    "\"\"\"\n",
    ")\n",
    "\n",
    "rows = cursor.fetchall()\n",
    "\n",
    "df = pd.DataFrame(rows, columns=[\"id_pedido\", \"dt_envio\", \"preço\"])\n",
    "\n",
    "display(df)"
   ]
  },
  {
   "cell_type": "markdown",
   "metadata": {},
   "source": [
    "###  Gere uma tabela com o id do pedido, o tipo de pagamento e o número de parcelas, somente para produtos com parcelas menores que 1"
   ]
  },
  {
   "cell_type": "code",
   "execution_count": 93,
   "metadata": {},
   "outputs": [
    {
     "data": {
      "text/html": [
       "<div>\n",
       "<style scoped>\n",
       "    .dataframe tbody tr th:only-of-type {\n",
       "        vertical-align: middle;\n",
       "    }\n",
       "\n",
       "    .dataframe tbody tr th {\n",
       "        vertical-align: top;\n",
       "    }\n",
       "\n",
       "    .dataframe thead th {\n",
       "        text-align: right;\n",
       "    }\n",
       "</style>\n",
       "<table border=\"1\" class=\"dataframe\">\n",
       "  <thead>\n",
       "    <tr style=\"text-align: right;\">\n",
       "      <th></th>\n",
       "      <th>id_pedido</th>\n",
       "      <th>tipo_pagamento</th>\n",
       "      <th>parcelas</th>\n",
       "    </tr>\n",
       "  </thead>\n",
       "  <tbody>\n",
       "    <tr>\n",
       "      <th>0</th>\n",
       "      <td>744bade1fcf9ff3f31d860ace076d422</td>\n",
       "      <td>credit_card</td>\n",
       "      <td>0</td>\n",
       "    </tr>\n",
       "    <tr>\n",
       "      <th>1</th>\n",
       "      <td>1a57108394169c0b47d8f876acc9ba2d</td>\n",
       "      <td>credit_card</td>\n",
       "      <td>0</td>\n",
       "    </tr>\n",
       "  </tbody>\n",
       "</table>\n",
       "</div>"
      ],
      "text/plain": [
       "                          id_pedido tipo_pagamento  parcelas\n",
       "0  744bade1fcf9ff3f31d860ace076d422    credit_card         0\n",
       "1  1a57108394169c0b47d8f876acc9ba2d    credit_card         0"
      ]
     },
     "metadata": {},
     "output_type": "display_data"
    }
   ],
   "source": [
    "cursor.execute(\n",
    "    \"\"\"\n",
    "SELECT\n",
    "  op.order_id,\n",
    "  op.payment_type,\n",
    "  op.payment_installments\n",
    "FROM\n",
    "  order_payments op\n",
    "WHERE\n",
    "  op.payment_installments < 1\n",
    "\"\"\"\n",
    ")\n",
    "\n",
    "rows = cursor.fetchall()\n",
    "\n",
    "df = pd.DataFrame(rows, columns=[\"id_pedido\", \"tipo_pagamento\", \"parcelas\"])\n",
    "\n",
    "display(df)"
   ]
  },
  {
   "cell_type": "markdown",
   "metadata": {},
   "source": [
    "### Gere uma tabela com o id do pedido, id do cliente, o status do pedido e a data de aprovação , somente para compras aprovadas até dia 20 de Maio de 2016\n"
   ]
  },
  {
   "cell_type": "code",
   "execution_count": 94,
   "metadata": {},
   "outputs": [
    {
     "data": {
      "text/html": [
       "<div>\n",
       "<style scoped>\n",
       "    .dataframe tbody tr th:only-of-type {\n",
       "        vertical-align: middle;\n",
       "    }\n",
       "\n",
       "    .dataframe tbody tr th {\n",
       "        vertical-align: top;\n",
       "    }\n",
       "\n",
       "    .dataframe thead th {\n",
       "        text-align: right;\n",
       "    }\n",
       "</style>\n",
       "<table border=\"1\" class=\"dataframe\">\n",
       "  <thead>\n",
       "    <tr style=\"text-align: right;\">\n",
       "      <th></th>\n",
       "      <th>id_pedido</th>\n",
       "      <th>id_cliente</th>\n",
       "      <th>status_pedido</th>\n",
       "      <th>pedido_aprovado_dt</th>\n",
       "    </tr>\n",
       "  </thead>\n",
       "  <tbody>\n",
       "    <tr>\n",
       "      <th>0</th>\n",
       "      <td>d3c8851a6651eeff2f73b0e011ac45d0</td>\n",
       "      <td>957f8e082185574de25992dc659ebbc0</td>\n",
       "      <td>processing</td>\n",
       "      <td>2016-10-06 15:51:05</td>\n",
       "    </tr>\n",
       "    <tr>\n",
       "      <th>1</th>\n",
       "      <td>cbbb524a0e1646aa6cf7a3c0bbe517ad</td>\n",
       "      <td>dacb079d55ffb1d3955c5d923df3ebb7</td>\n",
       "      <td>delivered</td>\n",
       "      <td>2016-10-06 02:46:24</td>\n",
       "    </tr>\n",
       "    <tr>\n",
       "      <th>2</th>\n",
       "      <td>ac2b7c522d811acba0aa270ed3e112e4</td>\n",
       "      <td>ef21aebbb093a6db29ccc6aa0b89c347</td>\n",
       "      <td>delivered</td>\n",
       "      <td>2016-10-06 15:44:26</td>\n",
       "    </tr>\n",
       "    <tr>\n",
       "      <th>3</th>\n",
       "      <td>7033745709b7cf1bac7d2533663592de</td>\n",
       "      <td>7f0ca17bb33b230b47459437cf0682c7</td>\n",
       "      <td>delivered</td>\n",
       "      <td>2016-10-04 14:46:48</td>\n",
       "    </tr>\n",
       "    <tr>\n",
       "      <th>4</th>\n",
       "      <td>5cd498954e2b37d71b315166809b4bd7</td>\n",
       "      <td>ff1a56726b7ea149c7423865609cc0c8</td>\n",
       "      <td>delivered</td>\n",
       "      <td>2016-10-08 03:56:15</td>\n",
       "    </tr>\n",
       "    <tr>\n",
       "      <th>...</th>\n",
       "      <td>...</td>\n",
       "      <td>...</td>\n",
       "      <td>...</td>\n",
       "      <td>...</td>\n",
       "    </tr>\n",
       "    <tr>\n",
       "      <th>317</th>\n",
       "      <td>6e0d2539e48e84296bae6290de41058c</td>\n",
       "      <td>1fc56719b52f82c03caddc5faf531fbb</td>\n",
       "      <td>delivered</td>\n",
       "      <td>2016-10-06 15:51:37</td>\n",
       "    </tr>\n",
       "    <tr>\n",
       "      <th>318</th>\n",
       "      <td>9d664ec86be69d869bb6870294c4fdd8</td>\n",
       "      <td>0a9ee4d9030acbe428769c79d0c4da69</td>\n",
       "      <td>delivered</td>\n",
       "      <td>2016-10-08 19:55:50</td>\n",
       "    </tr>\n",
       "    <tr>\n",
       "      <th>319</th>\n",
       "      <td>7e2dddf174cc4d2768bf39c43ab2bd7a</td>\n",
       "      <td>accfbaa1f092fdf6db1d8fcdad351b50</td>\n",
       "      <td>delivered</td>\n",
       "      <td>2016-10-10 05:54:51</td>\n",
       "    </tr>\n",
       "    <tr>\n",
       "      <th>320</th>\n",
       "      <td>e439ced3d48f1a77f6ecc029cc946a6f</td>\n",
       "      <td>e9c6723e04c4e53e7e9c3afe383f3866</td>\n",
       "      <td>delivered</td>\n",
       "      <td>2016-10-07 22:59:53</td>\n",
       "    </tr>\n",
       "    <tr>\n",
       "      <th>321</th>\n",
       "      <td>509a52223ecac6d67fb765b3b37c6974</td>\n",
       "      <td>efc07f50d0a9346ec00e1c37b5b10748</td>\n",
       "      <td>delivered</td>\n",
       "      <td>2016-10-06 18:50:35</td>\n",
       "    </tr>\n",
       "  </tbody>\n",
       "</table>\n",
       "<p>322 rows × 4 columns</p>\n",
       "</div>"
      ],
      "text/plain": [
       "                            id_pedido                        id_cliente  \\\n",
       "0    d3c8851a6651eeff2f73b0e011ac45d0  957f8e082185574de25992dc659ebbc0   \n",
       "1    cbbb524a0e1646aa6cf7a3c0bbe517ad  dacb079d55ffb1d3955c5d923df3ebb7   \n",
       "2    ac2b7c522d811acba0aa270ed3e112e4  ef21aebbb093a6db29ccc6aa0b89c347   \n",
       "3    7033745709b7cf1bac7d2533663592de  7f0ca17bb33b230b47459437cf0682c7   \n",
       "4    5cd498954e2b37d71b315166809b4bd7  ff1a56726b7ea149c7423865609cc0c8   \n",
       "..                                ...                               ...   \n",
       "317  6e0d2539e48e84296bae6290de41058c  1fc56719b52f82c03caddc5faf531fbb   \n",
       "318  9d664ec86be69d869bb6870294c4fdd8  0a9ee4d9030acbe428769c79d0c4da69   \n",
       "319  7e2dddf174cc4d2768bf39c43ab2bd7a  accfbaa1f092fdf6db1d8fcdad351b50   \n",
       "320  e439ced3d48f1a77f6ecc029cc946a6f  e9c6723e04c4e53e7e9c3afe383f3866   \n",
       "321  509a52223ecac6d67fb765b3b37c6974  efc07f50d0a9346ec00e1c37b5b10748   \n",
       "\n",
       "    status_pedido   pedido_aprovado_dt  \n",
       "0      processing  2016-10-06 15:51:05  \n",
       "1       delivered  2016-10-06 02:46:24  \n",
       "2       delivered  2016-10-06 15:44:26  \n",
       "3       delivered  2016-10-04 14:46:48  \n",
       "4       delivered  2016-10-08 03:56:15  \n",
       "..            ...                  ...  \n",
       "317     delivered  2016-10-06 15:51:37  \n",
       "318     delivered  2016-10-08 19:55:50  \n",
       "319     delivered  2016-10-10 05:54:51  \n",
       "320     delivered  2016-10-07 22:59:53  \n",
       "321     delivered  2016-10-06 18:50:35  \n",
       "\n",
       "[322 rows x 4 columns]"
      ]
     },
     "metadata": {},
     "output_type": "display_data"
    }
   ],
   "source": [
    "cursor.execute(\n",
    "    \"\"\"\n",
    "SELECT\n",
    "  o.order_id,\n",
    "  o.customer_id,\n",
    "  o.order_status,\n",
    "  o.order_approved_at\n",
    "FROM\n",
    "  orders o\n",
    "WHERE\n",
    "  o.order_approved_at < \"2016-20-05\"\n",
    "\"\"\"\n",
    ")\n",
    "\n",
    "rows = cursor.fetchall()\n",
    "\n",
    "df = pd.DataFrame(rows, columns=[\"id_pedido\", \"id_cliente\", \"status_pedido\", \"pedido_aprovado_dt\"])\n",
    "\n",
    "display(df)"
   ]
  },
  {
   "cell_type": "markdown",
   "metadata": {},
   "source": [
    "## Ciclo_02"
   ]
  },
  {
   "cell_type": "markdown",
   "metadata": {},
   "source": [
    "### Qual o número de clientes únicos do estado de Minas Gerais?"
   ]
  },
  {
   "cell_type": "code",
   "execution_count": 95,
   "metadata": {},
   "outputs": [
    {
     "name": "stdout",
     "output_type": "stream",
     "text": [
      "A quantidade de clientes únicos em MG é: 11635\n"
     ]
    }
   ],
   "source": [
    "cursor.execute(\n",
    "  \"\"\"\n",
    "  SELECT\n",
    "    COUNT(DISTINCT customer_id) AS qt_clientes_unicos\n",
    "  FROM\n",
    "    customer c\n",
    "  WHERE\n",
    "    customer_state = 'MG'\n",
    "  \"\"\"\n",
    ")\n",
    "\n",
    "rows = cursor.fetchall()\n",
    "\n",
    "value = rows[0][0]\n",
    "\n",
    "print(f'A quantidade de clientes únicos em MG é: {value}')\n"
   ]
  },
  {
   "cell_type": "markdown",
   "metadata": {},
   "source": [
    "### Qual a quantidade de cidades únicas dos vendedores do estado de Santa Catarina?"
   ]
  },
  {
   "cell_type": "code",
   "execution_count": 96,
   "metadata": {},
   "outputs": [
    {
     "name": "stdout",
     "output_type": "stream",
     "text": [
      "A quantidade de cidades únicas dos vendedores em SC é: 65\n"
     ]
    }
   ],
   "source": [
    "cursor.execute(\n",
    "  \"\"\"\n",
    "  SELECT\n",
    "    COUNT(DISTINCT s.seller_city)\n",
    "  FROM\n",
    "    sellers s\n",
    "  WHERE\n",
    "    s.seller_state = \"SC\"\n",
    "  \"\"\"\n",
    ")\n",
    "\n",
    "rows = cursor.fetchall()\n",
    "\n",
    "value = rows[0][0]\n",
    "\n",
    "print(f'A quantidade de cidades únicas dos vendedores em SC é: {value}')\n"
   ]
  },
  {
   "cell_type": "markdown",
   "metadata": {},
   "source": [
    "### Qual a quantidade de cidades únicas de todos os vendedores da base?"
   ]
  },
  {
   "cell_type": "code",
   "execution_count": 97,
   "metadata": {},
   "outputs": [
    {
     "name": "stdout",
     "output_type": "stream",
     "text": [
      "A quantidade de cidades únicas dos vendedores é: 611\n"
     ]
    }
   ],
   "source": [
    "cursor.execute(\n",
    "  \"\"\"\n",
    "  SELECT\n",
    "    COUNT(DISTINCT s.seller_city)\n",
    "  FROM\n",
    "    sellers s\n",
    "  \"\"\"\n",
    ")\n",
    "\n",
    "rows = cursor.fetchall()\n",
    "\n",
    "value = rows[0][0]\n",
    "\n",
    "print(f'A quantidade de cidades únicas dos vendedores é: {value}')\n"
   ]
  },
  {
   "cell_type": "markdown",
   "metadata": {},
   "source": [
    "### Qual o número total de pedidos únicos acima de R$ 3.500"
   ]
  },
  {
   "cell_type": "code",
   "execution_count": 98,
   "metadata": {},
   "outputs": [
    {
     "name": "stdout",
     "output_type": "stream",
     "text": [
      "Total de pedidos únicos acima de R$ 3.500,00 é: 18\n"
     ]
    }
   ],
   "source": [
    "cursor.execute(\n",
    "  \"\"\"\n",
    "  SELECT\n",
    "    COUNT(DISTINCT oi.order_id)\n",
    "  FROM\n",
    "    order_items oi\n",
    "  WHERE\n",
    "    oi.price > 3500\n",
    "  \"\"\"\n",
    ")\n",
    "\n",
    "rows = cursor.fetchall()\n",
    "\n",
    "value = rows[0][0]\n",
    "\n",
    "print(f'Total de pedidos únicos acima de R$ 3.500,00 é: {value}')\n"
   ]
  },
  {
   "cell_type": "markdown",
   "metadata": {},
   "source": [
    "### Qual o valor médio do preço de todos os pedidos?"
   ]
  },
  {
   "cell_type": "code",
   "execution_count": 99,
   "metadata": {},
   "outputs": [
    {
     "name": "stdout",
     "output_type": "stream",
     "text": [
      "O valor médio é: 120.65\n"
     ]
    }
   ],
   "source": [
    "cursor.execute(\n",
    "  \"\"\"\n",
    "  SELECT\n",
    "    AVG(oi.price)\n",
    "  FROM\n",
    "    order_items oi\n",
    "  \"\"\"\n",
    ")\n",
    "\n",
    "rows = cursor.fetchall()\n",
    "\n",
    "value = round(rows[0][0], 2)\n",
    "\n",
    "print(f'O valor médio é: {value}')"
   ]
  },
  {
   "cell_type": "markdown",
   "metadata": {},
   "source": [
    "### Qual o menor e o maior valor de preço entre todos os pedidos?"
   ]
  },
  {
   "cell_type": "code",
   "execution_count": 100,
   "metadata": {},
   "outputs": [
    {
     "ename": "IndexError",
     "evalue": "list index out of range",
     "output_type": "error",
     "traceback": [
      "\u001b[1;31m---------------------------------------------------------------------------\u001b[0m",
      "\u001b[1;31mIndexError\u001b[0m                                Traceback (most recent call last)",
      "Cell \u001b[1;32mIn[100], line 11\u001b[0m\n\u001b[0;32m      1\u001b[0m min_value \u001b[38;5;241m=\u001b[39m cursor\u001b[38;5;241m.\u001b[39mexecute(\n\u001b[0;32m      2\u001b[0m \u001b[38;5;250m  \u001b[39m\u001b[38;5;124;03m\"\"\"\u001b[39;00m\n\u001b[0;32m      3\u001b[0m \u001b[38;5;124;03m  SELECT\u001b[39;00m\n\u001b[1;32m   (...)\u001b[0m\n\u001b[0;32m      7\u001b[0m \u001b[38;5;124;03m  \"\"\"\u001b[39;00m\n\u001b[0;32m      8\u001b[0m )\n\u001b[0;32m     10\u001b[0m rows \u001b[38;5;241m=\u001b[39m \u001b[38;5;28mmin\u001b[39m\u001b[38;5;241m.\u001b[39mfetchall()\n\u001b[1;32m---> 11\u001b[0m value \u001b[38;5;241m=\u001b[39m \u001b[43mrows\u001b[49m\u001b[43m[\u001b[49m\u001b[38;5;241;43m0\u001b[39;49m\u001b[43m]\u001b[49m[\u001b[38;5;241m0\u001b[39m]\n\u001b[0;32m     12\u001b[0m \u001b[38;5;28mprint\u001b[39m(\u001b[38;5;124mf\u001b[39m\u001b[38;5;124m'\u001b[39m\u001b[38;5;124mO menor preço é: \u001b[39m\u001b[38;5;132;01m{\u001b[39;00mvalue\u001b[38;5;132;01m}\u001b[39;00m\u001b[38;5;124m'\u001b[39m)\n\u001b[0;32m     14\u001b[0m max_value \u001b[38;5;241m=\u001b[39m cursor\u001b[38;5;241m.\u001b[39mexecute(\n\u001b[0;32m     15\u001b[0m \u001b[38;5;250m  \u001b[39m\u001b[38;5;124;03m\"\"\"\u001b[39;00m\n\u001b[0;32m     16\u001b[0m \u001b[38;5;124;03m  SELECT\u001b[39;00m\n\u001b[1;32m   (...)\u001b[0m\n\u001b[0;32m     20\u001b[0m \u001b[38;5;124;03m  \"\"\"\u001b[39;00m\n\u001b[0;32m     21\u001b[0m )\n",
      "\u001b[1;31mIndexError\u001b[0m: list index out of range"
     ]
    }
   ],
   "source": [
    "min_value = cursor.execute(\n",
    "  \"\"\"\n",
    "  SELECT\n",
    "    MIN(oi.price)\n",
    "  FROM\n",
    "    order_items oi\n",
    "  \"\"\"\n",
    ")\n",
    "\n",
    "rows = min.fetchall()\n",
    "value = rows[0][0]\n",
    "print(f'O menor preço é: {value}')\n",
    "\n",
    "max_value = cursor.execute(\n",
    "  \"\"\"\n",
    "  SELECT\n",
    "    MAX(oi.price)\n",
    "  FROM\n",
    "    order_items oi\n",
    "  \"\"\"\n",
    ")\n",
    "\n",
    "rows = max.fetchall()\n",
    "value = rows[0][0]\n",
    "print(f'O menor preço é: {value}')"
   ]
  },
  {
   "cell_type": "markdown",
   "metadata": {},
   "source": [
    "### Qual a quantidade de produtos distintos vendidos abaixo do preço de R$ 100.00?\n"
   ]
  },
  {
   "cell_type": "code",
   "execution_count": null,
   "metadata": {},
   "outputs": [
    {
     "name": "stdout",
     "output_type": "stream",
     "text": [
      "Quantidade de produtos distintos abaixo dos R$ 100,00: 20112\n"
     ]
    }
   ],
   "source": [
    "cursor.execute(\n",
    "  \"\"\"\n",
    "  SELECT\n",
    "    COUNT(DISTINCT oi.product_id)\n",
    "  FROM\n",
    "    order_items oi\n",
    "  WHERE oi.price < 100\n",
    "  \"\"\"\n",
    ")\n",
    "\n",
    "rows = cursor.fetchall()\n",
    "\n",
    "value = rows[0][0]\n",
    "\n",
    "print(f'Quantidade de produtos distintos abaixo dos R$ 100,00: {value}')"
   ]
  },
  {
   "cell_type": "markdown",
   "metadata": {},
   "source": [
    "### Qual a quantidade de vendedores distintos que receberam algum pedido antes do dia 23 de setembro de 2016?"
   ]
  },
  {
   "cell_type": "code",
   "execution_count": null,
   "metadata": {},
   "outputs": [
    {
     "name": "stdout",
     "output_type": "stream",
     "text": [
      "2 vendedores\n"
     ]
    }
   ],
   "source": [
    "cursor.execute(\n",
    "  \"\"\"\n",
    "  SELECT\n",
    "    COUNT(DISTINCT oi.seller_id)\n",
    "  FROM\n",
    "    order_items oi\n",
    "  WHERE oi.shipping_limit_date < \"2016-09-23\"\n",
    "  \"\"\"\n",
    ")\n",
    "\n",
    "rows = cursor.fetchall()\n",
    "\n",
    "value = rows[0][0]\n",
    "\n",
    "print(f'{value} vendedores')"
   ]
  },
  {
   "cell_type": "markdown",
   "metadata": {},
   "source": [
    "### Quais os tipos de pagamentos existentes?\n"
   ]
  },
  {
   "cell_type": "code",
   "execution_count": null,
   "metadata": {},
   "outputs": [
    {
     "name": "stdout",
     "output_type": "stream",
     "text": [
      "credit_card, boleto, voucher, debit_card, not_defined\n"
     ]
    }
   ],
   "source": [
    "cursor.execute(\n",
    "    \"\"\"\n",
    "    SELECT DISTINCT\n",
    "      op.payment_type\n",
    "    FROM\n",
    "      order_payments op\n",
    "    \"\"\"\n",
    ")\n",
    "\n",
    "rows = cursor.fetchall()\n",
    "\n",
    "rows_list = [row[0] for row in rows]\n",
    "\n",
    "print(', '.join(rows_list))\n"
   ]
  },
  {
   "cell_type": "markdown",
   "metadata": {},
   "source": [
    "### Qual o maior e o menor número de parcelas realizado?"
   ]
  },
  {
   "cell_type": "code",
   "execution_count": 104,
   "metadata": {},
   "outputs": [
    {
     "name": "stdout",
     "output_type": "stream",
     "text": [
      "24 é o número da maior da quantidade de parcela\n",
      "0 é o número de menor da quantidade de parcela\n"
     ]
    }
   ],
   "source": [
    "max_installments = cursor.execute(\n",
    "  \"\"\"\n",
    "  SELECT\n",
    "    MAX(op.payment_installments)\n",
    "  FROM\n",
    "    order_payments op\n",
    "  \"\"\"\n",
    ")\n",
    "\n",
    "rows = max_installments.fetchall()\n",
    "value = rows[0][0]\n",
    "print(f'{value} é o número da maior da quantidade de parcela')\n",
    "\n",
    "min_installments = cursor.execute(\n",
    "  \"\"\"\n",
    "  SELECT\n",
    "    MIN(op.payment_installments)\n",
    "  FROM\n",
    "    order_payments op\n",
    "  \"\"\"\n",
    ")\n",
    "\n",
    "rows = min_installments.fetchall()\n",
    "value = rows[0][0]\n",
    "print(f'{value} é o número de menor da quantidade de parcela')"
   ]
  },
  {
   "cell_type": "code",
   "execution_count": null,
   "metadata": {},
   "outputs": [],
   "source": []
  }
 ],
 "metadata": {
  "kernelspec": {
   "display_name": "Python 3",
   "language": "python",
   "name": "python3"
  },
  "language_info": {
   "codemirror_mode": {
    "name": "ipython",
    "version": 3
   },
   "file_extension": ".py",
   "mimetype": "text/x-python",
   "name": "python",
   "nbconvert_exporter": "python",
   "pygments_lexer": "ipython3",
   "version": "3.12.1"
  }
 },
 "nbformat": 4,
 "nbformat_minor": 2
}
